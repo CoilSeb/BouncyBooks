{
 "cells": [
  {
   "cell_type": "markdown",
   "metadata": {},
   "source": [
    "# Week 3\n",
    "* Screen Wrap\n",
    "* Enemies\n",
    "* Boost\n",
    "* More Platforms"
   ]
  },
  {
   "cell_type": "markdown",
   "metadata": {},
   "source": [
    "## Screen Wrap\n",
    "* Add the following code to the player scripts update function"
   ]
  },
  {
   "cell_type": "code",
   "execution_count": null,
   "metadata": {
    "vscode": {
     "languageId": "csharp"
    }
   },
   "outputs": [],
   "source": [
    "    // if the players position is less than -6.15 or greater than 6.15 on the x axis (the bounds of the camera), the player is moved to the other side of the camera\n",
    "    if (transform.position.x < -6.15f)\n",
    "    {\n",
    "        transform.position = new Vector3(6.15f, transform.position.y, transform.position.z);\n",
    "    }\n",
    "    else if (transform.position.x > 6.15f)\n",
    "    {\n",
    "        transform.position = new Vector3(-6.15f, transform.position.y, transform.position.z);\n",
    "    }"
   ]
  },
  {
   "cell_type": "markdown",
   "metadata": {},
   "source": [
    "## Enemies\n",
    "* Create a new `2D Object` -> `Sprite` -> `Hexagon Flat-Top` and name it `Enemy`\n",
    "\n",
    "* Create a new tag like we did with the platforms and call it `Enemy`\n",
    "\n",
    "* Assign the tag to the enemy sprite and change the color of the sprite. \n",
    "\n",
    "* Add a `Polygon Collider 2D` to the enemy\n",
    "\n",
    "* Add a new `Script` component to the enemy and call it `Enemy`\n",
    "\n",
    "* Add the following code to the enemy script"
   ]
  },
  {
   "cell_type": "code",
   "execution_count": null,
   "metadata": {
    "vscode": {
     "languageId": "csharp"
    }
   },
   "outputs": [],
   "source": [
    "    public float movespeed;\n",
    "    private bool moveRight = true;"
   ]
  },
  {
   "cell_type": "code",
   "execution_count": null,
   "metadata": {
    "vscode": {
     "languageId": "csharp"
    }
   },
   "outputs": [],
   "source": [
    "void Start()\n",
    "    {\n",
    "        movespeed = Random.Range(1f, 5f);\n",
    "    }"
   ]
  },
  {
   "cell_type": "markdown",
   "metadata": {},
   "source": [
    "* Add the following code to the update function\n",
    "\n",
    "* Moving right"
   ]
  },
  {
   "cell_type": "code",
   "execution_count": null,
   "metadata": {
    "vscode": {
     "languageId": "csharp"
    }
   },
   "outputs": [],
   "source": [
    "        if(moveRight)\n",
    "        {\n",
    "            transform.position += Vector3.right * movespeed * Time.deltaTime;\n",
    "            if (transform.position.x > 6.15f)\n",
    "            {\n",
    "                moveRight = false;\n",
    "            }\n",
    "        }"
   ]
  },
  {
   "cell_type": "markdown",
   "metadata": {},
   "source": [
    "* Moving left"
   ]
  },
  {
   "cell_type": "code",
   "execution_count": null,
   "metadata": {
    "vscode": {
     "languageId": "csharp"
    }
   },
   "outputs": [],
   "source": [
    "        else\n",
    "        {\n",
    "            transform.position += Vector3.left * movespeed * Time.deltaTime;\n",
    "            if (transform.position.x < -6.15f)\n",
    "            {\n",
    "                moveRight = true;\n",
    "            }\n",
    "        }"
   ]
  },
  {
   "cell_type": "markdown",
   "metadata": {},
   "source": [
    "* Destroying the object if it leaves the camera"
   ]
  },
  {
   "cell_type": "code",
   "execution_count": null,
   "metadata": {
    "vscode": {
     "languageId": "csharp"
    }
   },
   "outputs": [],
   "source": [
    "        if (transform.position.y < Camera.main.transform.position.y - 10)\n",
    "        {\n",
    "            Destroy(gameObject);\n",
    "        }"
   ]
  },
  {
   "cell_type": "markdown",
   "metadata": {},
   "source": [
    "* Back in Unity, test to see if your enemy is now moving\n",
    "\n",
    "* Once moving correctly, drag the enemy into your `Prefabs` folder\n",
    "\n",
    "* Once in the `Prefabs` folder, delete the enemy from the scene"
   ]
  },
  {
   "cell_type": "markdown",
   "metadata": {},
   "source": [
    "### Enemy Spawner\n",
    "\n",
    "* Open up the `Spawner` script \n",
    "\n",
    "* Add these variables to the top of the script\n"
   ]
  },
  {
   "cell_type": "code",
   "execution_count": null,
   "metadata": {
    "vscode": {
     "languageId": "csharp"
    }
   },
   "outputs": [],
   "source": [
    "public GameObject enemy;\n",
    "private float enemyDistance = 100f;\n",
    "private Vector3 enemyLastPos = new Vector3(0,10f,0);"
   ]
  },
  {
   "cell_type": "markdown",
   "metadata": {},
   "source": [
    "* Make sure to add the enemy prefab to the script in your Unity editor\n",
    "\n",
    "* Add a new function called `SpawnEnemy` underneath your spawn platform function\n",
    "\n",
    "* This function is almost identical to the spawn platform function, with the main differences being the use of different variables and the addition of editing the enemy movement speed at the end of the function"
   ]
  },
  {
   "cell_type": "code",
   "execution_count": null,
   "metadata": {
    "vscode": {
     "languageId": "csharp"
    }
   },
   "outputs": [],
   "source": [
    "    void SpawnEnemy()\n",
    "    {\n",
    "\n",
    "\n",
    "        if (enemyDistance <= 100f)\n",
    "        {\n",
    "            enemyDistance = 100f;\n",
    "        }\n",
    "\n",
    "        if (enemyLastPos.y + enemyDistance < Camera.main.transform.position.y + 10f)\n",
    "        {\n",
    "            enemyLastPos = new Vector3(Random.Range(-6f, 6f), Camera.main.transform.position.y + 10f, 0);\n",
    "\n",
    "            Instantiate(enemy, enemyLastPos, Quaternion.identity);\n",
    "            enemyDistance -= 75f;\n",
    "            enemy.GetComponent<Enemy>().movespeed = Random.Range(1f, 5f);\n",
    "        }\n",
    "    }"
   ]
  },
  {
   "cell_type": "markdown",
   "metadata": {},
   "source": [
    "* Finally update the Update function to include our new spawn enemy function\n",
    "\n",
    "* Your update function should look like this"
   ]
  },
  {
   "cell_type": "code",
   "execution_count": null,
   "metadata": {
    "vscode": {
     "languageId": "csharp"
    }
   },
   "outputs": [],
   "source": [
    "    void Update()\n",
    "    {\n",
    "        SpawnPlatform();\n",
    "        SpawnEnemy();\n",
    "    }"
   ]
  },
  {
   "cell_type": "markdown",
   "metadata": {},
   "source": [
    "* The `enemyDistance` variable controls how frequent the enemies spawn. The higher the number, the less frequent the enemies spawn and vice versa.\n",
    "\n",
    "* Now that enemies spawn, lets make them destroy the player if the player touches them.\n",
    "\n",
    "* Open the `Player` script and edit the `OnCollisionEnter2D` function to include the following code"
   ]
  },
  {
   "cell_type": "code",
   "execution_count": null,
   "metadata": {
    "vscode": {
     "languageId": "csharp"
    }
   },
   "outputs": [],
   "source": [
    "        if (collision.gameObject.tag == \"Enemy\")\n",
    "        {\n",
    "            Destroy(gameObject);\n",
    "        }"
   ]
  },
  {
   "cell_type": "markdown",
   "metadata": {},
   "source": [
    "* Now when our player hits something with the `Enemy` tag it will end the game by calling our endgame function.\n",
    "\n",
    "* Now we need to delete our enemies when the game ends. Open the `Score` script in your EventSystem and add the following code to the `Update` function"
   ]
  },
  {
   "cell_type": "code",
   "execution_count": null,
   "metadata": {
    "vscode": {
     "languageId": "csharp"
    }
   },
   "outputs": [],
   "source": [
    "        GameObject[] enemies = GameObject.FindGameObjectsWithTag(\"Enemy\");\n",
    "        foreach (GameObject enemy in enemies)\n",
    "        {\n",
    "            Destroy(enemy);\n",
    "        }"
   ]
  },
  {
   "cell_type": "markdown",
   "metadata": {},
   "source": [
    "* This is essentially the same code we have for deleting platforms, but with enemies instead.\n",
    "\n",
    "* Now we should have working enemies and their spawner."
   ]
  },
  {
   "cell_type": "markdown",
   "metadata": {},
   "source": [
    "## Boost\n",
    "\n",
    "* Next we will implement a boost powerup\n",
    "\n",
    "* First create a new `2D Object` -> `Sprite` -> `Square` and name it `Boost`\n",
    "\n",
    "* Create a new tag like we did with the platforms and enemies and call it `Boost`\n",
    "\n",
    "* Assign the tag to the boost sprite and change the color of the sprite\n",
    "\n",
    "* Add a `Box Collider 2D` to the boost\n",
    "\n",
    "* Add a new `Script` component to the boost and call it `Boost`\n",
    "\n",
    "* The following code is very similar to the platform code in the sense that we are turning off the collider until our player is above it.\n",
    "\n",
    "* Add the following code to your boost script as the update function"
   ]
  },
  {
   "cell_type": "code",
   "execution_count": null,
   "metadata": {
    "vscode": {
     "languageId": "csharp"
    }
   },
   "outputs": [],
   "source": [
    "    void Update()\n",
    "    {\n",
    "        if (GameObject.Find(\"Player\").transform.position.y > transform.position.y + 0.5f)\n",
    "        {\n",
    "            GetComponent<BoxCollider2D>().enabled = true;\n",
    "        }\n",
    "        else if(GameObject.Find(\"Player\").transform.position.y < transform.position.y)\n",
    "        {\n",
    "            GetComponent<BoxCollider2D>().enabled = false;\n",
    "        }\n",
    "\n",
    "        if (transform.position.y < Camera.main.transform.position.y - 10)\n",
    "        {\n",
    "            Destroy(gameObject);\n",
    "        }\n",
    "    }"
   ]
  },
  {
   "cell_type": "markdown",
   "metadata": {},
   "source": [
    "* Now that we have our boost turning on and off, lets make it boost us when we touch it.\n",
    "\n",
    "* Open your player script and add the following code to the `OnCollisionEnter2D` function"
   ]
  },
  {
   "cell_type": "code",
   "execution_count": null,
   "metadata": {
    "vscode": {
     "languageId": "csharp"
    }
   },
   "outputs": [],
   "source": [
    "        if (collision.gameObject.tag == \"Boost\")\n",
    "        {\n",
    "            rb.velocity = new Vector2(rb.velocity.x, jumpHeight * boost);\n",
    "        }"
   ]
  },
  {
   "cell_type": "markdown",
   "metadata": {},
   "source": [
    "* With that we need to make a boost variable at the top of our script to control how much we boost by. I have mine set to double the jumpHeight velocity."
   ]
  },
  {
   "cell_type": "code",
   "execution_count": null,
   "metadata": {
    "vscode": {
     "languageId": "csharp"
    }
   },
   "outputs": [],
   "source": [
    "private float boost = 2f;"
   ]
  },
  {
   "cell_type": "markdown",
   "metadata": {},
   "source": [
    "* Now we have working boosts, so lets make it a prefab by dragging it into our prefabs folder, and deleting it in the scene."
   ]
  },
  {
   "cell_type": "markdown",
   "metadata": {},
   "source": [
    "### Boost Spawning\n",
    "\n",
    "* Now lets add boosts spawning.\n",
    "\n",
    "* We want our boosts to spawn on our platforms, so what we'll do is add it to the platform spawner function.\n",
    "\n",
    "* Open the `Spawner` script and add the following variable to access our boost."
   ]
  },
  {
   "cell_type": "code",
   "execution_count": null,
   "metadata": {
    "vscode": {
     "languageId": "csharp"
    }
   },
   "outputs": [],
   "source": [
    "public GameObject boost;"
   ]
  },
  {
   "cell_type": "markdown",
   "metadata": {},
   "source": [
    "* Make sure to attach your boost prefab to the script in the Unity editor.\n",
    "\n",
    "* Then add the following code to your `SpawnPlatform` function"
   ]
  },
  {
   "cell_type": "code",
   "execution_count": null,
   "metadata": {
    "vscode": {
     "languageId": "csharp"
    }
   },
   "outputs": [],
   "source": [
    "            // generate a random number from 1 to 100, if 100 is generated, spawn a boost\n",
    "            int rand = Random.Range(1, 21);\n",
    "            if (rand == 20) \n",
    "            {\n",
    "                Instantiate(boost, lastPos + Vector3.up * 0.4f, Quaternion.identity);\n",
    "            }"
   ]
  },
  {
   "cell_type": "markdown",
   "metadata": {},
   "source": [
    "* This code creates a random number between 1 and 21. If the number is 20, then it will spawn a boost. This means that there is a 1 in 20 chance of spawning a boost. Increase the number to see les boosts and decrease it to see more. \n",
    "\n",
    "* The `lastpos + Vector.up * 0.4f` tells the boost to spawn where the platform spawned plus a little bit up. This is so that the boost doesn't spawn inside the platform.\n",
    "\n",
    "* The final spawnPlatform function should look something like this"
   ]
  },
  {
   "cell_type": "code",
   "execution_count": null,
   "metadata": {
    "vscode": {
     "languageId": "csharp"
    }
   },
   "outputs": [],
   "source": [
    "    void SpawnPlatform()\n",
    "    {\n",
    "        if(platformDistance >= 2.0f){\n",
    "            platformDistance = 2.0f;\n",
    "        }\n",
    "\n",
    "        if(lastPos.y + platformDistance < Camera.main.transform.position.y + 10f)\n",
    "        {\n",
    "            lastPos = new Vector3(Random.Range(-6f, 6f), Camera.main.transform.position.y + 10f + platformDistance, 0);\n",
    "\n",
    "\n",
    "            Instantiate(platform, lastPos, Quaternion.identity);\n",
    "\n",
    "            // generate a random number from 1 to 100, if 100 is generated, spawn a boost\n",
    "            int rand = Random.Range(1, 21);\n",
    "            if (rand == 20) \n",
    "            {\n",
    "                Instantiate(boost, lastPos + Vector3.up * 0.4f, Quaternion.identity);\n",
    "            }\n",
    "            platformDistance += 0.0025f;\n",
    "        }\n",
    "    }"
   ]
  },
  {
   "cell_type": "markdown",
   "metadata": {},
   "source": [
    "* Now lets make sure we destroy our boosts when the game ends.\n",
    "\n",
    "* Open up the `Score` script and add the following code to the `Update` function"
   ]
  },
  {
   "cell_type": "code",
   "execution_count": null,
   "metadata": {
    "vscode": {
     "languageId": "csharp"
    }
   },
   "outputs": [],
   "source": [
    "        GameObject[] Boosts = GameObject.FindGameObjectsWithTag(\"Boost\");\n",
    "        foreach (GameObject Boost in Boosts)\n",
    "        {\n",
    "            Destroy(Boost);\n",
    "        }"
   ]
  },
  {
   "cell_type": "markdown",
   "metadata": {},
   "source": [
    "* Now we should have working boosts and their spawner."
   ]
  },
  {
   "cell_type": "markdown",
   "metadata": {},
   "source": [
    "## More Platforms\n",
    "\n",
    "* Now that we have enemies and boosts, lets add some more platforms to our game.\n",
    "\n",
    "* Open up the `Platform` script. Here we are going to make a lot of changes. \n",
    "\n",
    "* First we are going to add some new variables to the top of the script"
   ]
  },
  {
   "cell_type": "code",
   "execution_count": null,
   "metadata": {
    "vscode": {
     "languageId": "csharp"
    }
   },
   "outputs": [],
   "source": [
    "    private bool moveRight = true;\n",
    "    private float movespeed = 5f;"
   ]
  },
  {
   "cell_type": "markdown",
   "metadata": {},
   "source": [
    "* Then we add a enumerator to the top of the script called `PlatfromType`"
   ]
  },
  {
   "cell_type": "code",
   "execution_count": null,
   "metadata": {
    "vscode": {
     "languageId": "csharp"
    }
   },
   "outputs": [],
   "source": [
    "    public enum PlatfromType\n",
    "    {\n",
    "        Normal, \n",
    "        Fake, \n",
    "        Moving,\n",
    "        Disappearing\n",
    "    }"
   ]
  },
  {
   "cell_type": "markdown",
   "metadata": {},
   "source": [
    "* These are all the platforms that we will be adding. \n",
    "\n",
    "* Normal: The normal platform that we have been using\n",
    "\n",
    "* Fake: A platform that looks like a normal platform, but will let the player fall when the player touches it\n",
    "\n",
    "* Moving: A platform that moves back and forth\n",
    "\n",
    "* Dissapearing: A platform that dissapears after the player has bounced off of it.\n",
    "\n",
    "* We then set the default PlatformType as normal with this code underneath and outside of the enumerator"
   ]
  },
  {
   "cell_type": "code",
   "execution_count": null,
   "metadata": {
    "vscode": {
     "languageId": "csharp"
    }
   },
   "outputs": [],
   "source": [
    "    public PlatfromType platformType = PlatfromType.Normal;"
   ]
  },
  {
   "cell_type": "markdown",
   "metadata": {},
   "source": [
    "* Next we will take all the code in our update function and move it to a new function called `NormalLogic`"
   ]
  },
  {
   "cell_type": "code",
   "execution_count": null,
   "metadata": {
    "vscode": {
     "languageId": "csharp"
    }
   },
   "outputs": [],
   "source": [
    "    void NormalLogic()\n",
    "    {\n",
    "        if (GameObject.Find(\"Player\").transform.position.y > transform.position.y + 0.75f)\n",
    "        {\n",
    "            GetComponent<BoxCollider2D>().enabled = true;\n",
    "        }\n",
    "        else if(GameObject.Find(\"Player\").transform.position.y < transform.position.y)\n",
    "        {\n",
    "            GetComponent<BoxCollider2D>().enabled = false;\n",
    "        }\n",
    "\n",
    "        if (transform.position.y < Camera.main.transform.position.y - 10)\n",
    "        {\n",
    "            Destroy(gameObject);\n",
    "        }\n",
    "    }"
   ]
  },
  {
   "cell_type": "markdown",
   "metadata": {},
   "source": [
    "* Update should be empty at this point.\n",
    "\n",
    "* Now we will add a new function called `MoveLogic` \n",
    "\n",
    "* This is the same code we used to move our enemies."
   ]
  },
  {
   "cell_type": "code",
   "execution_count": null,
   "metadata": {
    "vscode": {
     "languageId": "csharp"
    }
   },
   "outputs": [],
   "source": [
    "    void MoveLogic()\n",
    "    {\n",
    "        if(moveRight)\n",
    "        {\n",
    "            transform.position += Vector3.right * movespeed * Time.deltaTime;\n",
    "            if (transform.position.x > 5.5f)\n",
    "            {\n",
    "                moveRight = false;\n",
    "            }\n",
    "        }\n",
    "        else\n",
    "        {\n",
    "            transform.position += Vector3.left * movespeed * Time.deltaTime;\n",
    "            if (transform.position.x < -5.5f)\n",
    "            {\n",
    "                moveRight = true;\n",
    "            }\n",
    "        }\n",
    "    }"
   ]
  },
  {
   "cell_type": "markdown",
   "metadata": {},
   "source": [
    "* Next we will add a `OnCollisionEnter2D` function to our script to destroy our fake and dissapearing platforms."
   ]
  },
  {
   "cell_type": "code",
   "execution_count": null,
   "metadata": {
    "vscode": {
     "languageId": "csharp"
    }
   },
   "outputs": [],
   "source": [
    "    void OnCollisionEnter2D(Collision2D collision)\n",
    "    {\n",
    "        if (gameObject.tag == \"FakePlatform\")\n",
    "        {\n",
    "            Destroy(gameObject);\n",
    "        }\n",
    "\n",
    "        if(platformType == PlatfromType.Disappearing)\n",
    "        {\n",
    "            Destroy(gameObject);\n",
    "        }\n",
    "    }"
   ]
  },
  {
   "cell_type": "markdown",
   "metadata": {},
   "source": []
  }
 ],
 "metadata": {
  "language_info": {
   "name": "python"
  }
 },
 "nbformat": 4,
 "nbformat_minor": 2
}
