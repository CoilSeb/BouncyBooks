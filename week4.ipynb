{
 "cells": [
  {
   "cell_type": "markdown",
   "metadata": {},
   "source": [
    "# Week 4\n",
    "\n",
    "* More Platforms\n",
    "* Custom Sprites\n",
    "* Custom Sounds\n",
    "* Build and run the game"
   ]
  },
  {
   "cell_type": "markdown",
   "metadata": {},
   "source": [
    "## More Platforms\n",
    "\n",
    "* Now that we have enemies and boosts, lets add some more platforms to our game.\n",
    "\n",
    "* Open up the `Platform` script. Here we are going to make a lot of changes. \n",
    "\n",
    "* First we are going to add some new variables to the top of the script"
   ]
  },
  {
   "cell_type": "code",
   "execution_count": null,
   "metadata": {
    "vscode": {
     "languageId": "csharp"
    }
   },
   "outputs": [],
   "source": [
    "    private bool moveRight = true;\n",
    "    private float movespeed = 5f;"
   ]
  },
  {
   "cell_type": "markdown",
   "metadata": {},
   "source": [
    "* Then we add a enumerator to the top of the script called `PlatfromType`"
   ]
  },
  {
   "cell_type": "code",
   "execution_count": null,
   "metadata": {
    "vscode": {
     "languageId": "csharp"
    }
   },
   "outputs": [],
   "source": [
    "    public enum PlatfromType\n",
    "    {\n",
    "        Normal, \n",
    "        Fake, \n",
    "        Moving,\n",
    "        Disappearing\n",
    "    }"
   ]
  },
  {
   "cell_type": "markdown",
   "metadata": {},
   "source": [
    "* These are all the platforms that we will be adding. \n",
    "\n",
    "* Normal: The normal platform that we have been using\n",
    "\n",
    "* Fake: A platform that looks like a normal platform, but will let the player fall when the player touches it\n",
    "\n",
    "* Moving: A platform that moves back and forth\n",
    "\n",
    "* Dissapearing: A platform that dissapears after the player has bounced off of it.\n",
    "\n",
    "* We then set the default PlatformType as normal with this code underneath and outside of the enumerator"
   ]
  },
  {
   "cell_type": "code",
   "execution_count": null,
   "metadata": {
    "vscode": {
     "languageId": "csharp"
    }
   },
   "outputs": [],
   "source": [
    "    public PlatfromType platformType = PlatfromType.Normal;"
   ]
  },
  {
   "cell_type": "markdown",
   "metadata": {},
   "source": [
    "* Next we will take all the code in our update function and move it to a new function called `NormalLogic`"
   ]
  },
  {
   "cell_type": "code",
   "execution_count": null,
   "metadata": {
    "vscode": {
     "languageId": "csharp"
    }
   },
   "outputs": [],
   "source": [
    "    void NormalLogic()\n",
    "    {\n",
    "        if (GameObject.Find(\"Player\").transform.position.y > transform.position.y + 0.75f)\n",
    "        {\n",
    "            GetComponent<BoxCollider2D>().enabled = true;\n",
    "        }\n",
    "        else if(GameObject.Find(\"Player\").transform.position.y < transform.position.y)\n",
    "        {\n",
    "            GetComponent<BoxCollider2D>().enabled = false;\n",
    "        }\n",
    "    }"
   ]
  },
  {
   "cell_type": "markdown",
   "metadata": {},
   "source": [
    "* Update should be empty at this point.\n",
    "\n",
    "* Now we will add a new function called `MoveLogic` \n",
    "\n",
    "* This is the same code we used to move our enemies."
   ]
  },
  {
   "cell_type": "code",
   "execution_count": null,
   "metadata": {
    "vscode": {
     "languageId": "csharp"
    }
   },
   "outputs": [],
   "source": [
    "    void MoveLogic()\n",
    "    {\n",
    "        if(moveRight)\n",
    "        {\n",
    "            transform.position += Vector3.right * movespeed * Time.deltaTime;\n",
    "            if (transform.position.x > 5.5f)\n",
    "            {\n",
    "                moveRight = false;\n",
    "            }\n",
    "        }\n",
    "        else\n",
    "        {\n",
    "            transform.position += Vector3.left * movespeed * Time.deltaTime;\n",
    "            if (transform.position.x < -5.5f)\n",
    "            {\n",
    "                moveRight = true;\n",
    "            }\n",
    "        }\n",
    "    }"
   ]
  },
  {
   "cell_type": "markdown",
   "metadata": {},
   "source": [
    "* Next we will add a `OnCollisionEnter2D` function to our script to destroy our fake and dissapearing platforms."
   ]
  },
  {
   "cell_type": "code",
   "execution_count": null,
   "metadata": {
    "vscode": {
     "languageId": "csharp"
    }
   },
   "outputs": [],
   "source": [
    "    void OnCollisionEnter2D(Collision2D collision)\n",
    "    {\n",
    "        if (gameObject.tag == \"FakePlatform\")\n",
    "        {\n",
    "            Destroy(gameObject);\n",
    "        }\n",
    "\n",
    "        if(platformType == PlatfromType.Disappearing)\n",
    "        {\n",
    "            Destroy(gameObject);\n",
    "        }\n",
    "    }"
   ]
  },
  {
   "cell_type": "markdown",
   "metadata": {},
   "source": [
    "* Now we will tell our game to use the normal platforms until a certain point and to then choose a random state for our newly spawining platforms.\n",
    "\n",
    "* We will do this by changing our start function to this"
   ]
  },
  {
   "cell_type": "code",
   "execution_count": null,
   "metadata": {
    "vscode": {
     "languageId": "csharp"
    }
   },
   "outputs": [],
   "source": [
    "    void Start()\n",
    "    {\n",
    "        // use normal platforms until we are 25  units high\n",
    "        if (transform.position.y < 25)\n",
    "        {\n",
    "            platformType = PlatfromType.Normal;\n",
    "        }\n",
    "        else\n",
    "        {\n",
    "            // generate a random platform type\n",
    "            platformType = (PlatfromType)Random.Range(0, 6);\n",
    "\n",
    "            if (platformType == PlatfromType.Fake)\n",
    "            {\n",
    "                // set the platform tag to FakePlatform and color it red\n",
    "                gameObject.tag = \"FakePlatform\";\n",
    "                GetComponent<SpriteRenderer>().color = Color.red;\n",
    "            }\n",
    "\n",
    "            if (platformType == PlatfromType.Moving)\n",
    "            {\n",
    "                // set the platformType to Moving and color it green\n",
    "                GetComponent<SpriteRenderer>().color = Color.green;\n",
    "            }\n",
    "\n",
    "            if (platformType == PlatfromType.Disappearing)\n",
    "            {\n",
    "                // set the platformType to Disappearing and color it blue\n",
    "                GetComponent<SpriteRenderer>().color = Color.blue;\n",
    "            }\n",
    "        }\n",
    "    }"
   ]
  },
  {
   "cell_type": "markdown",
   "metadata": {},
   "source": [
    " * Now we edit our `Update` function to tell our game what to do when we spawn a new platform"
   ]
  },
  {
   "cell_type": "code",
   "execution_count": null,
   "metadata": {
    "vscode": {
     "languageId": "csharp"
    }
   },
   "outputs": [],
   "source": [
    "    void Update()\n",
    "    {\n",
    "        switch (platformType)\n",
    "        {\n",
    "            case PlatfromType.Normal:\n",
    "                break;\n",
    "            case PlatfromType.Moving:\n",
    "                MoveLogic();\n",
    "                break;\n",
    "            case PlatfromType.Disappearing:\n",
    "                break;\n",
    "            case PlatfromType.Fake:\n",
    "                break;\n",
    "            default:\n",
    "                break;\n",
    "        }\n",
    "\n",
    "        // use normal logic if not using any special logic\n",
    "        NormalLogic();\n",
    "\n",
    "        // if the platform is less than the camera, destroy the platform\n",
    "        if (transform.position.y < Camera.main.transform.position.y - 10)\n",
    "        {\n",
    "            Destroy(gameObject);\n",
    "        }\n",
    "    }"
   ]
  },
  {
   "cell_type": "markdown",
   "metadata": {},
   "source": [
    "* Now we should have working platforms that change states when we spawn them."
   ]
  },
  {
   "cell_type": "markdown",
   "metadata": {},
   "source": [
    "## Custom Sprites"
   ]
  },
  {
   "cell_type": "markdown",
   "metadata": {},
   "source": [
    "* Now that our game is mechanically finihed, we can start to add some art to our game.\n",
    "\n",
    "* This step is optional, but it will make our game look a lot better. It also can be done at any point during game developement. We've just waited until now to do it."
   ]
  },
  {
   "cell_type": "markdown",
   "metadata": {},
   "source": [
    "* We will be using a free online sprite editor called Piskel. Feel free to use any sprite editor you want.\n",
    "\n",
    "* Go to your web browser and go to piskelapp.com\n",
    "\n",
    "* Familiarize yourself with the application and then create a new sprite.\n",
    "\n",
    "* We will then save these sprites and add them into our Unity game files through file manager.\n",
    "\n",
    "* Open one file manager that has your downloads and open another file manager that has your Unity project open, specifically the assets folder.\n",
    "\n",
    "* Drag and drop your sprites into the assets folder from downloads to the assests folder.\n",
    "\n",
    "* Now find your player in the hierarchy and click on it.\n",
    "\n",
    "* Find the sprite component and drag your new sprite into the sprite component.\n",
    "\n",
    "* Now we will do the same thing for our platforms, enemies, and boosts.\n",
    "\n",
    "* You may need to do some resizing to make sure that your sprites match the size of the original sprites."
   ]
  },
  {
   "cell_type": "markdown",
   "metadata": {},
   "source": [
    "# Sounds"
   ]
  },
  {
   "cell_type": "markdown",
   "metadata": {},
   "source": [
    "* Now we will add sounds. \n",
    "\n",
    "* First we need to download sounds or create our own sounds.\n",
    "\n",
    "* Search in google for some free sounds. Do some searching and download whatever free sounds you want.\n",
    "\n",
    "* Once they are downloaded add them to your assets folder by dragging them from your downloads folder to your assets folder.\n",
    "\n",
    "* Now that our sounds are in the assets we can start to add them to our game. \n",
    "\n",
    "* First we will add a new component to our player called `Audio Source`. \n",
    "\n",
    "* After adding this component, we want to make sure we have an audio listener somewhere in our scene. This is usually added to your camera automatically, so check to make sure the camer has a `Audio Listener` component and if it does not, add one.\n",
    "\n",
    "* Then we will edit our player script to activate our audio source when we collide with a platform.\n",
    "\n",
    "* Edit your player script to add these variables to the top of the script"
   ]
  },
  {
   "cell_type": "code",
   "execution_count": null,
   "metadata": {
    "vscode": {
     "languageId": "csharp"
    }
   },
   "outputs": [],
   "source": [
    "    public AudioSource audioSource;\n",
    "    public AudioClip jumpSound1;\n",
    "    public AudioClip jumpSound2;"
   ]
  },
  {
   "cell_type": "markdown",
   "metadata": {},
   "source": [
    "* Now edit the platform code in the `OnCollisionEnter2D` function"
   ]
  },
  {
   "cell_type": "code",
   "execution_count": null,
   "metadata": {
    "vscode": {
     "languageId": "csharp"
    }
   },
   "outputs": [],
   "source": [
    "        if (collision.gameObject.tag == \"Platform\")\n",
    "        {\n",
    "            rb.velocity = new Vector2(rb.velocity.x, jumpHeight);\n",
    "            int rand = Random.Range(0, 2);\n",
    "\n",
    "            if(rand == 0)\n",
    "            {\n",
    "                audioSource.clip = jumpSound1;\n",
    "            }\n",
    "            else\n",
    "            {\n",
    "                audioSource.clip = jumpSound2;\n",
    "            }\n",
    "\n",
    "            audioSource.Play();\n",
    "        }"
   ]
  },
  {
   "cell_type": "markdown",
   "metadata": {},
   "source": [
    "* Make sure to drag the sounds you want to use into your public variables in the inspector."
   ]
  },
  {
   "cell_type": "markdown",
   "metadata": {},
   "source": [
    "# Build and Run"
   ]
  },
  {
   "cell_type": "markdown",
   "metadata": {},
   "source": [
    "* Now that we have a finished game, we can build and run our game.\n",
    "\n",
    "* Go to file in the top right and click on build settings.\n",
    "\n",
    "* Make sure that your scenes are in the build settings. (We only have one scene so it should be there by defualt. If not, click on \"Add Open Scenes\".)\n",
    "\n",
    "* Now click on build and run.\n",
    "\n",
    "* Select a good file location to store your executable file. (I would recommend just using your desktop.)\n",
    "\n",
    "* After selecting a location, your game should compile and run. To close your game use alt+F4. \n",
    "\n",
    "* Whenever you want to play your game, just double click on the executable file wherever you saved it."
   ]
  }
 ],
 "metadata": {
  "language_info": {
   "name": "python"
  },
  "orig_nbformat": 4
 },
 "nbformat": 4,
 "nbformat_minor": 2
}
